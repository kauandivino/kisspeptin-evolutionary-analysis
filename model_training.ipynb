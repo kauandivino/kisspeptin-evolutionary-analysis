{
  "nbformat": 4,
  "nbformat_minor": 0,
  "metadata": {
    "colab": {
      "provenance": []
    },
    "kernelspec": {
      "name": "python3",
      "display_name": "Python 3"
    },
    "language_info": {
      "name": "python"
    }
  },
  "cells": [
    {
      "cell_type": "code",
      "source": [
        "import numpy as np\n",
        "import pandas as pd\n",
        "\n",
        "import joblib\n",
        "\n",
        "from sklearn.linear_model import LogisticRegression\n",
        "from sklearn.ensemble import RandomForestClassifier\n",
        "from sklearn.svm import SVC\n",
        "from sklearn.neighbors import KNeighborsClassifier\n",
        "from sklearn.tree import DecisionTreeClassifier\n",
        "from sklearn.neural_network import MLPClassifier\n",
        "from sklearn.naive_bayes import GaussianNB\n",
        "\n",
        "from sklearn.metrics import classification_report, roc_auc_score, confusion_matrix\n",
        "\n",
        "from xgboost import XGBClassifier"
      ],
      "metadata": {
        "id": "uS-CVQT34c1_"
      },
      "execution_count": null,
      "outputs": []
    },
    {
      "cell_type": "code",
      "source": [
        "X_train = np.load(\"X_train.npy\")\n",
        "X_test = np.load(\"X_test.npy\")\n",
        "y_train = pd.read_csv(\"y_train.csv\").values.ravel()\n",
        "y_test = pd.read_csv(\"y_test.csv\").values.ravel()\n",
        "\n",
        "print(f\"📚 X_train: {X_train.shape}, y_train: {y_train.shape}\")\n",
        "print(f\"🧪 X_test: {X_test.shape}, y_test: {y_test.shape}\")"
      ],
      "metadata": {
        "id": "aK9MFdvB4d9R"
      },
      "execution_count": null,
      "outputs": []
    },
    {
      "cell_type": "code",
      "source": [
        "lr_model = LogisticRegression(max_iter=1000, random_state=42)\n",
        "lr_model.fit(X_train, y_train)\n",
        "\n",
        "y_pred_lr = lr_model.predict(X_test)\n",
        "y_prob_lr = lr_model.predict_proba(X_test)[:, 1]\n",
        "\n",
        "print(\"Logistic Regression - Classification Report:\")\n",
        "print(classification_report(y_test, y_pred_lr))\n",
        "print(\"AUC-ROC:\", roc_auc_score(y_test, y_prob_lr))"
      ],
      "metadata": {
        "id": "u8vmON964f3o"
      },
      "execution_count": null,
      "outputs": []
    },
    {
      "cell_type": "code",
      "source": [
        "rf_model = RandomForestClassifier(n_estimators=100, random_state=42)\n",
        "rf_model.fit(X_train, y_train)\n",
        "\n",
        "y_pred_rf = rf_model.predict(X_test)\n",
        "y_prob_rf = rf_model.predict_proba(X_test)[:, 1]\n",
        "\n",
        "print(\"Random Forest - Classification Report:\")\n",
        "print(classification_report(y_test, y_pred_rf))\n",
        "print(\"AUC-ROC:\", roc_auc_score(y_test, y_prob_rf))"
      ],
      "metadata": {
        "id": "Y3dn5e4E4smX"
      },
      "execution_count": null,
      "outputs": []
    },
    {
      "cell_type": "code",
      "source": [
        "xgb_model = XGBClassifier(use_label_encoder=False, eval_metric='logloss', random_state=42)\n",
        "xgb_model.fit(X_train, y_train)\n",
        "\n",
        "y_pred_xgb = xgb_model.predict(X_test)\n",
        "y_prob_xgb = xgb_model.predict_proba(X_test)[:, 1]\n",
        "\n",
        "print(\"XGBoost - Classification Report:\")\n",
        "print(classification_report(y_test, y_pred_xgb))\n",
        "print(\"AUC-ROC:\", roc_auc_score(y_test, y_prob_xgb))"
      ],
      "metadata": {
        "id": "hfCne7Ev44mm"
      },
      "execution_count": null,
      "outputs": []
    },
    {
      "cell_type": "code",
      "source": [
        "svm_model = SVC(probability=True, kernel='rbf', random_state=42)\n",
        "svm_model.fit(X_train, y_train)\n",
        "\n",
        "y_pred_svm = svm_model.predict(X_test)\n",
        "y_prob_svm = svm_model.predict_proba(X_test)[:, 1]\n",
        "\n",
        "print(\"SVM - Classification Report:\")\n",
        "print(classification_report(y_test, y_pred_svm))\n",
        "print(\"AUC-ROC:\", roc_auc_score(y_test, y_prob_svm))"
      ],
      "metadata": {
        "id": "7Phsrwf45DpG"
      },
      "execution_count": null,
      "outputs": []
    },
    {
      "cell_type": "code",
      "source": [
        "knn_model = KNeighborsClassifier(n_neighbors=5)\n",
        "knn_model.fit(X_train, y_train)\n",
        "\n",
        "y_pred_knn = knn_model.predict(X_test)\n",
        "y_prob_knn = knn_model.predict_proba(X_test)[:, 1]\n",
        "\n",
        "print(\"KNN - Classification Report:\")\n",
        "print(classification_report(y_test, y_pred_knn))\n",
        "print(\"AUC-ROC:\", roc_auc_score(y_test, y_prob_knn))"
      ],
      "metadata": {
        "id": "KhtLh9Ro5MvF"
      },
      "execution_count": null,
      "outputs": []
    },
    {
      "cell_type": "code",
      "source": [
        "dt_model = DecisionTreeClassifier(random_state=42)\n",
        "dt_model.fit(X_train, y_train)\n",
        "\n",
        "y_pred_dt = dt_model.predict(X_test)\n",
        "y_prob_dt = dt_model.predict_proba(X_test)[:, 1]\n",
        "\n",
        "print(\"Decision Tree - Classification Report:\")\n",
        "print(classification_report(y_test, y_pred_dt))\n",
        "print(\"AUC-ROC:\", roc_auc_score(y_test, y_prob_dt))"
      ],
      "metadata": {
        "id": "x9ahXR9g5Z-3"
      },
      "execution_count": null,
      "outputs": []
    },
    {
      "cell_type": "code",
      "source": [
        "mlp_model = MLPClassifier(hidden_layer_sizes=(50,), max_iter=1000, random_state=42)\n",
        "mlp_model.fit(X_train, y_train)\n",
        "\n",
        "y_pred_mlp = mlp_model.predict(X_test)\n",
        "y_prob_mlp = mlp_model.predict_proba(X_test)[:, 1]\n",
        "\n",
        "print(\"MLP - Classification Report:\")\n",
        "print(classification_report(y_test, y_pred_mlp))\n",
        "print(\"AUC-ROC:\", roc_auc_score(y_test, y_prob_mlp))"
      ],
      "metadata": {
        "id": "-BroTOPI5mX5"
      },
      "execution_count": null,
      "outputs": []
    },
    {
      "cell_type": "code",
      "source": [
        "nb_model = GaussianNB()\n",
        "nb_model.fit(X_train, y_train)\n",
        "\n",
        "y_pred_nb = nb_model.predict(X_test)\n",
        "y_prob_nb = nb_model.predict_proba(X_test)[:, 1]\n",
        "\n",
        "print(\"Naive Bayes - Classification Report:\")\n",
        "print(classification_report(y_test, y_pred_nb))\n",
        "print(\"AUC-ROC:\", roc_auc_score(y_test, y_prob_nb))"
      ],
      "metadata": {
        "id": "JYsPaP9C6Haj"
      },
      "execution_count": null,
      "outputs": []
    },
    {
      "cell_type": "code",
      "source": [
        "joblib.dump(lr_model, \"models/logistic_regression_model.joblib\")\n",
        "joblib.dump(rf_model, \"models/random_forest_model.joblib\")\n",
        "joblib.dump(xgb_model, \"models/xgboost_model.joblib\")\n",
        "joblib.dump(svm_model, \"models/svm_model.joblib\")\n",
        "joblib.dump(knn_model, \"models/knn_model.joblib\")\n",
        "joblib.dump(dt_model, \"models/decision_tree_model.joblib\")\n",
        "joblib.dump(mlp_model, \"models/mlp_model.joblib\")\n",
        "joblib.dump(nb_model, \"models/naive_bayes_model.joblib\")\n",
        "\n",
        "print(\"All models have been successfully saved to the 'models/' folder.\")"
      ],
      "metadata": {
        "id": "l2zv4GCs6gJ5"
      },
      "execution_count": null,
      "outputs": []
    }
  ]
}