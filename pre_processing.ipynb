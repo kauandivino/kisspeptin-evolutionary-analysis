{
  "nbformat": 4,
  "nbformat_minor": 0,
  "metadata": {
    "colab": {
      "provenance": []
    },
    "kernelspec": {
      "name": "python3",
      "display_name": "Python 3"
    },
    "language_info": {
      "name": "python"
    }
  },
  "cells": [
    {
      "cell_type": "code",
      "execution_count": null,
      "metadata": {
        "id": "ZwMYLTt7kTLX"
      },
      "outputs": [],
      "source": [
        "import pandas as pd\n",
        "import numpy as np\n",
        "from sklearn.preprocessing import StandardScaler, OneHotEncoder\n",
        "from sklearn.model_selection import train_test_split\n",
        "from sklearn.compose import ColumnTransformer\n",
        "from sklearn.pipeline import Pipeline\n",
        "\n",
        "pd.set_option('display.max_columns', 20)"
      ]
    },
    {
      "cell_type": "code",
      "source": [
        "df = pd.read_csv('cardiac arrest dataset.csv')\n",
        "\n",
        "print(f\"original Shape: {df.shape}\")\n",
        "df.head()"
      ],
      "metadata": {
        "id": "faVmyH4jGT0Y"
      },
      "execution_count": null,
      "outputs": []
    },
    {
      "cell_type": "code",
      "source": [
        "duplicated_rows = df.duplicated().sum()\n",
        "print(f\"Duplicate lines detected: {duplicated_rows}\")\n",
        "\n",
        "df = df.drop_duplicates()\n",
        "print(f\"New shape after removal: {df.shape}\")"
      ],
      "metadata": {
        "id": "Qc8v-J58Glwj"
      },
      "execution_count": null,
      "outputs": []
    },
    {
      "cell_type": "code",
      "source": [
        "target_column = 'target'\n",
        "feature_columns = df.columns.drop(target_column).tolist()\n",
        "\n",
        "numerical_features = ['age', 'trestbps', 'chol', 'thalach', 'oldpeak']\n",
        "categorical_features = list(set(feature_columns) - set(numerical_features))\n",
        "\n",
        "print(\"Numerical variables:\", numerical_features)\n",
        "print(\"Categorical variables:\", categorical_features)"
      ],
      "metadata": {
        "id": "PFg6OYArHvvi"
      },
      "execution_count": null,
      "outputs": []
    },
    {
      "cell_type": "code",
      "source": [
        "numerical_transformer = StandardScaler()\n",
        "categorical_transformer = OneHotEncoder(drop='first', handle_unknown='ignore')\n",
        "\n",
        "preprocessor = ColumnTransformer(\n",
        "    transformers=[\n",
        "        ('num', numerical_transformer, numerical_features),\n",
        "        ('cat', categorical_transformer, categorical_features)\n",
        "    ]\n",
        ")"
      ],
      "metadata": {
        "id": "lQkc1xdTlp-Y"
      },
      "execution_count": null,
      "outputs": []
    },
    {
      "cell_type": "code",
      "source": [
        "X = df[feature_columns]\n",
        "y = df[target_column]\n",
        "\n",
        "X_processed = preprocessor.fit_transform(X)\n",
        "\n",
        "print(f\" X processed - shape: {X_processed.shape}\")\n",
        "print(f\" y - shape: {y.shape}\")"
      ],
      "metadata": {
        "id": "fVFOiR1PILDh"
      },
      "execution_count": null,
      "outputs": []
    },
    {
      "cell_type": "code",
      "source": [
        "X_train, X_test, y_train, y_test = train_test_split(\n",
        "    X_processed, y, test_size=0.2, random_state=42, stratify=y\n",
        ")\n",
        "\n",
        "print(f\"Train set: {X_train.shape}, {y_train.shape}\")\n",
        "print(f\"Test set: {X_test.shape}, {y_test.shape}\")"
      ],
      "metadata": {
        "id": "MM0lvGmIINAm"
      },
      "execution_count": null,
      "outputs": []
    },
    {
      "cell_type": "code",
      "source": [
        "np.save(\"X_train.npy\", X_train)\n",
        "np.save(\"X_test.npy\", X_test)\n",
        "y_train.to_csv(\"y_train.csv\", index=False)\n",
        "y_test.to_csv(\"y_test.csv\", index=False)\n",
        "\n",
        "print(\"Data saved in .npy format.\")"
      ],
      "metadata": {
        "id": "HtIJgQ8KIZIN"
      },
      "execution_count": null,
      "outputs": []
    }
  ]
}